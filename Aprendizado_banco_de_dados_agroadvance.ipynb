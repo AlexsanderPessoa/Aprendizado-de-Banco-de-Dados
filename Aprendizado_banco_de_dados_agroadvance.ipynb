{
  "nbformat": 4,
  "nbformat_minor": 0,
  "metadata": {
    "colab": {
      "provenance": [],
      "authorship_tag": "ABX9TyNtAU5gq8c2k4KRWCAkyiW/",
      "include_colab_link": true
    },
    "kernelspec": {
      "name": "python3",
      "display_name": "Python 3"
    },
    "language_info": {
      "name": "python"
    }
  },
  "cells": [
    {
      "cell_type": "markdown",
      "metadata": {
        "id": "view-in-github",
        "colab_type": "text"
      },
      "source": [
        "<a href=\"https://colab.research.google.com/github/AlexsanderPessoa/Aprendizado-de-Banco-de-Dados/blob/main/Aprendizado_banco_de_dados_agroadvance.ipynb\" target=\"_parent\"><img src=\"https://colab.research.google.com/assets/colab-badge.svg\" alt=\"Open In Colab\"/></a>"
      ]
    },
    {
      "cell_type": "code",
      "execution_count": null,
      "metadata": {
        "id": "YpWuB1CJaBXp"
      },
      "outputs": [],
      "source": [
        "/* DLL - Data Definition Language */\n",
        "\n",
        "/* A linguagem de definição de dados se ocupa de modificar \n",
        "a estrutura de objetos de uma DB.\n",
        "\n",
        "Ela é constituida por diferentes setenças que nos permite criar, \n",
        "modificar, apagar ou definir a estrutura das tabelas que \n",
        "armazenam dados. */\n",
        "\n",
        "/* Create, Alter, Drop, Truncate */\n",
        "\n",
        "CREATE DATABASE AGROADVANCE;\n",
        "CREATE SCHEMA AGROADVANCE2;\n",
        "USE AGROADVANCE;\n",
        "\n",
        "/* Em outros gerenciadores pode haver diferença entre \n",
        "database e schema, dentro de um schema eu posso inserir vários \n",
        "database */\n",
        "\n",
        "/* eu chamei de agroadvance2, pois no mysql eles são iguais e \n",
        "não pode haver repetição */\n",
        "\n",
        "CREATE TABLE pagamentos (\n",
        "id_pay\tINT NOT NULL AUTO_INCREMENT PRIMARY KEY,\n",
        "valor\tREAL NOT NULL,\n",
        "moeda\tVARCHAR(20) NOT NULL,\n",
        "data_pagamento DATE NOT NULL,\n",
        "tipo_pagamento VARCHAR(50),\n",
        "id_usuario INT NOT NULL,\n",
        "id_empresa INT NOT NULL\n",
        ");\n",
        "\n",
        "SELECT * FROM pagamentos;\n",
        "/* estou selacionando a tabela pagamentos */\n",
        "\n",
        "DESCRIBE pagamentos;\n",
        "/* Não é DLL */\n",
        "/* na coluna default, serve caso nada seja add na tabela, \n",
        "ele irá com um valor padrão já pre estabelecido */\n",
        "\n",
        "ALTER TABLE pagamentos\n",
        "ADD age INT;\n",
        "/* eu alterei a tabela pagamentos e add uma coluna\n",
        "chamada: age, do tipo inteiro */\n",
        "/* agora quando eu chamar de novo o SELECT * FROM pagamentos,\n",
        "deve aparecer uma coluna a mais referente a que eu criei. */\n",
        "\n",
        "SELECT * FROM pagamentos;\n",
        "/* não preciso escrever o codigo de novo, basta eu selecinar \n",
        "o código lá em cima e mandar rodar no icone com o desenho de raio. */\n",
        "\n",
        "/* Posso modificar uma coluna que eu já crie\n",
        "nesse caso vou alterar a coluna age de inteiro para um varchar */\n",
        "\n",
        "ALTER TABLE pagamentos\n",
        "MODIFY age NVARCHAR(50) NOT NULL;\n",
        "/* NVARCHAR pode ser add tanto strings quanto numeros */\n",
        "/* CUIDADO, embaixo recebemos uma alerta, isso não é um erro\n",
        "significa que não está de acordo com os novos padroes, mas funciona normalmente,\n",
        "mas precisa tomar cuidado com os caracter, no nosso exemplo que estamos passando\n",
        "irá funcionar normalmente. */\n",
        "/* vamos olhar de novo */\n",
        "\n",
        "DESCRIBE pagamentos;\n",
        "\n",
        "/* Caso eu precise mudar o nome da minha coluna, utilizo o change, \n",
        "aqui eu mudei de age para idade */\n",
        "ALTER TABLE pagamentos\n",
        "CHANGE COLUMN age idade VARCHAR(50) NOT NULL;\n",
        "\n",
        "/* Eu quero deletar a coluna idade que foi criado */\n",
        "ALTER TABLE pagamentos\n",
        "DROP COLUMN idade;\n",
        "\n",
        "/*   */\n",
        "ALTER TABLE pagamentos\n",
        "RENAME TO pagamento_do_mes;\n",
        "\n",
        "SELECT * FROM pagamentos;\n",
        "\n",
        "\n",
        "\n",
        "\n",
        "\n",
        "\n"
      ]
    }
  ]
}