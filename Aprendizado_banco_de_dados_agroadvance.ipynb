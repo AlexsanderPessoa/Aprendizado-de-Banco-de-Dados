{
  "nbformat": 4,
  "nbformat_minor": 0,
  "metadata": {
    "colab": {
      "provenance": [],
      "authorship_tag": "ABX9TyOribekxp3obXQjamD+lyox",
      "include_colab_link": true
    },
    "kernelspec": {
      "name": "python3",
      "display_name": "Python 3"
    },
    "language_info": {
      "name": "python"
    }
  },
  "cells": [
    {
      "cell_type": "markdown",
      "metadata": {
        "id": "view-in-github",
        "colab_type": "text"
      },
      "source": [
        "<a href=\"https://colab.research.google.com/github/AlexsanderPessoa/Aprendizado-de-Banco-de-Dados/blob/main/Aprendizado_banco_de_dados_agroadvance.ipynb\" target=\"_parent\"><img src=\"https://colab.research.google.com/assets/colab-badge.svg\" alt=\"Open In Colab\"/></a>"
      ]
    },
    {
      "cell_type": "code",
      "execution_count": null,
      "metadata": {
        "id": "YpWuB1CJaBXp"
      },
      "outputs": [],
      "source": [
        "/* DLL - Data Definition Language */\n",
        "\n",
        "/* A linguagem de definição de dados se ocupa de modificar \n",
        "a estrutura de objetos de uma DB.\n",
        "\n",
        "Ela é constituida por diferentes setenças que nos permite criar, \n",
        "modificar, apagar ou definir a estrutura das tabelas que \n",
        "armazenam dados. */\n",
        "\n",
        "/* Create, Alter, Drop, Truncate */\n",
        "\n",
        "CREATE DATABASE AGROADVANCE;\n",
        "CREATE SCHEMA AGROADVANCE2;\n",
        "USE AGROADVANCE;\n",
        "\n",
        "/* Em outros gerenciadores pode haver diferença entre \n",
        "database e schema, dentro de um schema eu posso inserir vários \n",
        "database */\n",
        "\n",
        "/* eu chamei de agroadvance2, pois no mysql eles são iguais e \n",
        "não pode haver repetição */\n",
        "\n",
        "CREATE TABLE pagamentos (\n",
        "id_pay\tINT NOT NULL AUTO_INCREMENT PRIMARY KEY,\n",
        "valor\tREAL NOT NULL,\n",
        "moeda\tVARCHAR(20) NOT NULL,\n",
        "data_pagamento DATE NOT NULL,\n",
        "tipo_pagamento VARCHAR(50),\n",
        "id_usuario INT NOT NULL,\n",
        "id_empresa INT NOT NULL\n",
        ");\n",
        "\n",
        "SELECT * FROM pagamentos;"
      ]
    }
  ]
}